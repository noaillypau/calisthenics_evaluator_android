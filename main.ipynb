{
 "cells": [
  {
   "cell_type": "code",
   "execution_count": 1,
   "id": "separate-beijing",
   "metadata": {},
   "outputs": [
    {
     "name": "stderr",
     "output_type": "stream",
     "text": [
      "[INFO   ] [Logger      ] Record log in C:\\Users\\Paul Noailly\\.kivy\\logs\\kivy_21-02-02_36.txt\n",
      "[INFO   ] [deps        ] Successfully imported \"kivy_deps.angle\" 0.3.0\n",
      "[INFO   ] [deps        ] Successfully imported \"kivy_deps.glew\" 0.3.0\n",
      "[INFO   ] [deps        ] Successfully imported \"kivy_deps.sdl2\" 0.3.1\n",
      "[INFO   ] [Kivy        ] v2.0.0\n",
      "[INFO   ] [Kivy        ] Installed at \"C:\\Users\\Paul Noailly\\anaconda3\\envs\\hellojialee_ia\\lib\\site-packages\\kivy\\__init__.py\"\n",
      "[INFO   ] [Python      ] v3.8.5 (default, Sep  3 2020, 21:29:08) [MSC v.1916 64 bit (AMD64)]\n",
      "[INFO   ] [Python      ] Interpreter at \"C:\\Users\\Paul Noailly\\anaconda3\\envs\\hellojialee_ia\\python.exe\"\n",
      "[INFO   ] [Factory     ] 186 symbols loaded\n",
      "[INFO   ] [Image       ] Providers: img_tex, img_dds, img_sdl2, img_pil (img_ffpyplayer ignored)\n",
      "[INFO   ] [Window      ] Provider: sdl2\n",
      "[INFO   ] [GL          ] Using the \"OpenGL\" graphics system\n",
      "[INFO   ] [GL          ] GLEW initialization succeeded\n",
      "[INFO   ] [GL          ] Backend used <glew>\n",
      "[INFO   ] [GL          ] OpenGL version <b'4.6.0 NVIDIA 460.89'>\n",
      "[INFO   ] [GL          ] OpenGL vendor <b'NVIDIA Corporation'>\n",
      "[INFO   ] [GL          ] OpenGL renderer <b'GeForce GTX 1660/PCIe/SSE2'>\n",
      "[INFO   ] [GL          ] OpenGL parsed version: 4, 6\n",
      "[INFO   ] [GL          ] Shading version <b'4.60 NVIDIA'>\n",
      "[INFO   ] [GL          ] Texture max size <32768>\n",
      "[INFO   ] [GL          ] Texture max units <32>\n",
      "[INFO   ] [Window      ] auto add sdl2 input provider\n",
      "[INFO   ] [Window      ] virtual keyboard not allowed, single mode, not docked\n",
      "[INFO   ] [Text        ] Provider: sdl2\n",
      "[INFO   ] [Base        ] Start application main loop\n",
      "[INFO   ] [GL          ] NPOT texture support is available\n",
      "[ERROR  ] unable to access to <\\pagefile.sys>\n",
      "Traceback (most recent call last):\n",
      "  File \"C:\\Users\\Paul Noailly\\anaconda3\\envs\\hellojialee_ia\\lib\\site-packages\\kivy\\uix\\filechooser.py\", line 180, in is_hidden\n",
      "    return GetFileAttributesExW(fn)[0] & FILE_ATTRIBUTE_HIDDEN\n",
      "pywintypes.error: (32, 'GetFileAttributesEx', 'Le processus ne peut pas accéder au fichier car ce fichier est utilisé par un autre processus.')\n",
      "[ERROR  ] unable to access to <\\hiberfil.sys>\n",
      "Traceback (most recent call last):\n",
      "  File \"C:\\Users\\Paul Noailly\\anaconda3\\envs\\hellojialee_ia\\lib\\site-packages\\kivy\\uix\\filechooser.py\", line 180, in is_hidden\n",
      "    return GetFileAttributesExW(fn)[0] & FILE_ATTRIBUTE_HIDDEN\n",
      "pywintypes.error: (32, 'GetFileAttributesEx', 'Le processus ne peut pas accéder au fichier car ce fichier est utilisé par un autre processus.')\n",
      "[ERROR  ] unable to access to <\\swapfile.sys>\n",
      "Traceback (most recent call last):\n",
      "  File \"C:\\Users\\Paul Noailly\\anaconda3\\envs\\hellojialee_ia\\lib\\site-packages\\kivy\\uix\\filechooser.py\", line 180, in is_hidden\n",
      "    return GetFileAttributesExW(fn)[0] & FILE_ATTRIBUTE_HIDDEN\n",
      "pywintypes.error: (32, 'GetFileAttributesEx', 'Le processus ne peut pas accéder au fichier car ce fichier est utilisé par un autre processus.')\n"
     ]
    },
    {
     "name": "stdout",
     "output_type": "stream",
     "text": [
      "0.75\n",
      "<kivy.uix.filechooser.FileSystemLocal object at 0x000001E5B090EC40>\n"
     ]
    },
    {
     "name": "stderr",
     "output_type": "stream",
     "text": [
      "[ERROR  ] [unable to access to <C]\\pagefile.sys>\n",
      "Traceback (most recent call last):\n",
      "  File \"C:\\Users\\Paul Noailly\\anaconda3\\envs\\hellojialee_ia\\lib\\site-packages\\kivy\\uix\\filechooser.py\", line 180, in is_hidden\n",
      "    return GetFileAttributesExW(fn)[0] & FILE_ATTRIBUTE_HIDDEN\n",
      "pywintypes.error: (32, 'GetFileAttributesEx', 'Le processus ne peut pas accéder au fichier car ce fichier est utilisé par un autre processus.')\n",
      "[ERROR  ] [unable to access to <C]\\hiberfil.sys>\n",
      "Traceback (most recent call last):\n",
      "  File \"C:\\Users\\Paul Noailly\\anaconda3\\envs\\hellojialee_ia\\lib\\site-packages\\kivy\\uix\\filechooser.py\", line 180, in is_hidden\n",
      "    return GetFileAttributesExW(fn)[0] & FILE_ATTRIBUTE_HIDDEN\n",
      "pywintypes.error: (32, 'GetFileAttributesEx', 'Le processus ne peut pas accéder au fichier car ce fichier est utilisé par un autre processus.')\n",
      "[ERROR  ] [unable to access to <C]\\swapfile.sys>\n",
      "Traceback (most recent call last):\n",
      "  File \"C:\\Users\\Paul Noailly\\anaconda3\\envs\\hellojialee_ia\\lib\\site-packages\\kivy\\uix\\filechooser.py\", line 180, in is_hidden\n",
      "    return GetFileAttributesExW(fn)[0] & FILE_ATTRIBUTE_HIDDEN\n",
      "pywintypes.error: (32, 'GetFileAttributesEx', 'Le processus ne peut pas accéder au fichier car ce fichier est utilisé par un autre processus.')\n",
      "[INFO   ] [Base        ] Leaving application in progress...\n"
     ]
    },
    {
     "ename": "SystemExit",
     "evalue": "",
     "output_type": "error",
     "traceback": [
      "An exception has occurred, use %tb to see the full traceback.\n",
      "\u001b[1;31mSystemExit\u001b[0m\n"
     ]
    },
    {
     "name": "stderr",
     "output_type": "stream",
     "text": [
      " C:\\Users\\Paul Noailly\\anaconda3\\envs\\hellojialee_ia\\lib\\site-packages\\IPython\\core\\interactiveshell.py:3426: UserWarning: To exit: use 'exit', 'quit', or Ctrl-D.\n",
      "   warn(\"To exit: use 'exit', 'quit', or Ctrl-D.\", stacklevel=1)\n"
     ]
    }
   ],
   "source": [
    "%run kivy_classes/menu.py"
   ]
  },
  {
   "cell_type": "code",
   "execution_count": 13,
   "id": "electrical-journalism",
   "metadata": {},
   "outputs": [
    {
     "ename": "NotADirectoryError",
     "evalue": "[WinError 267] Nom de répertoire non valide: 'C://frontlever/test1.jpg'",
     "output_type": "error",
     "traceback": [
      "\u001b[1;31m---------------------------------------------------------------------------\u001b[0m",
      "\u001b[1;31mNotADirectoryError\u001b[0m                        Traceback (most recent call last)",
      "\u001b[1;32m<ipython-input-13-b33a7cfbacc0>\u001b[0m in \u001b[0;36m<module>\u001b[1;34m\u001b[0m\n\u001b[0;32m      1\u001b[0m \u001b[1;32mimport\u001b[0m \u001b[0mos\u001b[0m\u001b[1;33m,\u001b[0m \u001b[0mpandas\u001b[0m \u001b[1;32mas\u001b[0m \u001b[0mpd\u001b[0m\u001b[1;33m\u001b[0m\u001b[1;33m\u001b[0m\u001b[0m\n\u001b[1;32m----> 2\u001b[1;33m \u001b[0mlist_sorted\u001b[0m \u001b[1;33m=\u001b[0m \u001b[0msorted\u001b[0m\u001b[1;33m(\u001b[0m\u001b[1;33m(\u001b[0m\u001b[0mf\u001b[0m \u001b[1;32mfor\u001b[0m \u001b[0mf\u001b[0m \u001b[1;32min\u001b[0m \u001b[0mos\u001b[0m\u001b[1;33m.\u001b[0m\u001b[0mlistdir\u001b[0m\u001b[1;33m(\u001b[0m\u001b[1;34m'C://frontlever'\u001b[0m\u001b[1;33m)\u001b[0m \u001b[1;32mif\u001b[0m \u001b[1;32mnot\u001b[0m \u001b[0mos\u001b[0m\u001b[1;33m.\u001b[0m\u001b[0mpath\u001b[0m\u001b[1;33m.\u001b[0m\u001b[0misdir\u001b[0m\u001b[1;33m(\u001b[0m\u001b[0mf\u001b[0m\u001b[1;33m)\u001b[0m\u001b[1;33m)\u001b[0m\u001b[1;33m,\u001b[0m \u001b[0mkey\u001b[0m\u001b[1;33m=\u001b[0m\u001b[1;32mlambda\u001b[0m \u001b[0mfi\u001b[0m\u001b[1;33m:\u001b[0m\u001b[0mos\u001b[0m\u001b[1;33m.\u001b[0m\u001b[0mstat\u001b[0m\u001b[1;33m(\u001b[0m\u001b[0mos\u001b[0m\u001b[1;33m.\u001b[0m\u001b[0mlistdir\u001b[0m\u001b[1;33m(\u001b[0m\u001b[1;34m'C://frontlever/'\u001b[0m\u001b[1;33m+\u001b[0m\u001b[0mfi\u001b[0m\u001b[1;33m)\u001b[0m\u001b[1;33m)\u001b[0m\u001b[1;33m.\u001b[0m\u001b[0mst_ctime\u001b[0m\u001b[1;33m,\u001b[0m \u001b[0mreverse\u001b[0m\u001b[1;33m=\u001b[0m\u001b[1;32mTrue\u001b[0m\u001b[1;33m)\u001b[0m\u001b[1;33m\u001b[0m\u001b[1;33m\u001b[0m\u001b[0m\n\u001b[0m",
      "\u001b[1;32m<ipython-input-13-b33a7cfbacc0>\u001b[0m in \u001b[0;36m<lambda>\u001b[1;34m(fi)\u001b[0m\n\u001b[0;32m      1\u001b[0m \u001b[1;32mimport\u001b[0m \u001b[0mos\u001b[0m\u001b[1;33m,\u001b[0m \u001b[0mpandas\u001b[0m \u001b[1;32mas\u001b[0m \u001b[0mpd\u001b[0m\u001b[1;33m\u001b[0m\u001b[1;33m\u001b[0m\u001b[0m\n\u001b[1;32m----> 2\u001b[1;33m \u001b[0mlist_sorted\u001b[0m \u001b[1;33m=\u001b[0m \u001b[0msorted\u001b[0m\u001b[1;33m(\u001b[0m\u001b[1;33m(\u001b[0m\u001b[0mf\u001b[0m \u001b[1;32mfor\u001b[0m \u001b[0mf\u001b[0m \u001b[1;32min\u001b[0m \u001b[0mos\u001b[0m\u001b[1;33m.\u001b[0m\u001b[0mlistdir\u001b[0m\u001b[1;33m(\u001b[0m\u001b[1;34m'C://frontlever'\u001b[0m\u001b[1;33m)\u001b[0m \u001b[1;32mif\u001b[0m \u001b[1;32mnot\u001b[0m \u001b[0mos\u001b[0m\u001b[1;33m.\u001b[0m\u001b[0mpath\u001b[0m\u001b[1;33m.\u001b[0m\u001b[0misdir\u001b[0m\u001b[1;33m(\u001b[0m\u001b[0mf\u001b[0m\u001b[1;33m)\u001b[0m\u001b[1;33m)\u001b[0m\u001b[1;33m,\u001b[0m \u001b[0mkey\u001b[0m\u001b[1;33m=\u001b[0m\u001b[1;32mlambda\u001b[0m \u001b[0mfi\u001b[0m\u001b[1;33m:\u001b[0m\u001b[0mos\u001b[0m\u001b[1;33m.\u001b[0m\u001b[0mstat\u001b[0m\u001b[1;33m(\u001b[0m\u001b[0mos\u001b[0m\u001b[1;33m.\u001b[0m\u001b[0mlistdir\u001b[0m\u001b[1;33m(\u001b[0m\u001b[1;34m'C://frontlever/'\u001b[0m\u001b[1;33m+\u001b[0m\u001b[0mfi\u001b[0m\u001b[1;33m)\u001b[0m\u001b[1;33m)\u001b[0m\u001b[1;33m.\u001b[0m\u001b[0mst_ctime\u001b[0m\u001b[1;33m,\u001b[0m \u001b[0mreverse\u001b[0m\u001b[1;33m=\u001b[0m\u001b[1;32mTrue\u001b[0m\u001b[1;33m)\u001b[0m\u001b[1;33m\u001b[0m\u001b[1;33m\u001b[0m\u001b[0m\n\u001b[0m",
      "\u001b[1;31mNotADirectoryError\u001b[0m: [WinError 267] Nom de répertoire non valide: 'C://frontlever/test1.jpg'"
     ]
    }
   ],
   "source": [
    "import os, pandas as pd\n",
    "list_sorted = sorted((f for f in os.listdir('C://frontlever') if not os.path.isdir(f)), key=lambda fi:os.stat(os.listdir('C://frontlever/'+fi)).st_ctime, reverse=True)"
   ]
  },
  {
   "cell_type": "code",
   "execution_count": 19,
   "id": "angry-bandwidth",
   "metadata": {},
   "outputs": [
    {
     "data": {
      "text/plain": [
       "True"
      ]
     },
     "execution_count": 19,
     "metadata": {},
     "output_type": "execute_result"
    }
   ],
   "source": [
    "import os\n",
    "os.stat('C://frontlever/test2.jpg').st_mtime"
   ]
  },
  {
   "cell_type": "code",
   "execution_count": 14,
   "id": "executive-margin",
   "metadata": {},
   "outputs": [
    {
     "name": "stdout",
     "output_type": "stream",
     "text": [
      "dt_object = 2021-02-02 13:20:17\n",
      "type(dt_object) = <class 'datetime.datetime'>\n"
     ]
    }
   ],
   "source": [
    "from datetime import datetime\n",
    "\n",
    "timestamp = 1612268417\n",
    "dt_object = datetime.fromtimestamp(timestamp)\n",
    "\n",
    "print(\"dt_object =\", dt_object)\n",
    "print(\"type(dt_object) =\", type(dt_object))"
   ]
  },
  {
   "cell_type": "code",
   "execution_count": 2,
   "id": "vocal-willow",
   "metadata": {},
   "outputs": [
    {
     "name": "stdout",
     "output_type": "stream",
     "text": [
      "Collecting kivy\n",
      "  Using cached Kivy-2.0.0-cp38-cp38-win_amd64.whl (4.1 MB)\n",
      "Requirement already satisfied: pygments in c:\\users\\paul noailly\\anaconda3\\envs\\hellojialee_ia\\lib\\site-packages (from kivy) (2.7.4)\n",
      "Collecting kivy-deps.angle~=0.3.0\n",
      "  Using cached kivy_deps.angle-0.3.0-cp38-cp38-win_amd64.whl (4.7 MB)\n",
      "Collecting kivy-deps.glew~=0.3.0\n",
      "  Using cached kivy_deps.glew-0.3.0-cp38-cp38-win_amd64.whl (123 kB)\n",
      "Collecting kivy-deps.sdl2~=0.3.1\n",
      "  Using cached kivy_deps.sdl2-0.3.1-cp38-cp38-win_amd64.whl (2.5 MB)\n",
      "Collecting Kivy-Garden>=0.1.4\n",
      "  Using cached Kivy_Garden-0.1.4-py3-none-any.whl\n",
      "Requirement already satisfied: requests in c:\\users\\paul noailly\\appdata\\roaming\\python\\python38\\site-packages (from Kivy-Garden>=0.1.4->kivy) (2.21.0)\n",
      "Collecting docutils\n",
      "  Using cached docutils-0.16-py2.py3-none-any.whl (548 kB)\n",
      "Collecting pypiwin32\n",
      "  Using cached pypiwin32-223-py3-none-any.whl (1.7 kB)\n",
      "Requirement already satisfied: pywin32>=223 in c:\\users\\paul noailly\\appdata\\roaming\\python\\python38\\site-packages (from pypiwin32->kivy) (300)\n",
      "Requirement already satisfied: urllib3<1.25,>=1.21.1 in c:\\users\\paul noailly\\appdata\\roaming\\python\\python38\\site-packages (from requests->Kivy-Garden>=0.1.4->kivy) (1.24.3)\n",
      "Requirement already satisfied: certifi>=2017.4.17 in c:\\users\\paul noailly\\anaconda3\\envs\\hellojialee_ia\\lib\\site-packages (from requests->Kivy-Garden>=0.1.4->kivy) (2020.12.5)\n",
      "Requirement already satisfied: idna<2.9,>=2.5 in c:\\users\\paul noailly\\appdata\\roaming\\python\\python38\\site-packages (from requests->Kivy-Garden>=0.1.4->kivy) (2.8)\n",
      "Requirement already satisfied: chardet<3.1.0,>=3.0.2 in c:\\users\\paul noailly\\appdata\\roaming\\python\\python38\\site-packages (from requests->Kivy-Garden>=0.1.4->kivy) (3.0.4)\n",
      "Installing collected packages: pypiwin32, Kivy-Garden, kivy-deps.sdl2, kivy-deps.glew, kivy-deps.angle, docutils, kivy\n",
      "Successfully installed Kivy-Garden-0.1.4 docutils-0.16 kivy-2.0.0 kivy-deps.angle-0.3.0 kivy-deps.glew-0.3.0 kivy-deps.sdl2-0.3.1 pypiwin32-223\n"
     ]
    }
   ],
   "source": [
    "!pip install kivy"
   ]
  },
  {
   "cell_type": "code",
   "execution_count": null,
   "id": "driven-attraction",
   "metadata": {},
   "outputs": [],
   "source": []
  }
 ],
 "metadata": {
  "kernelspec": {
   "display_name": "Python 3",
   "language": "python",
   "name": "python3"
  },
  "language_info": {
   "codemirror_mode": {
    "name": "ipython",
    "version": 3
   },
   "file_extension": ".py",
   "mimetype": "text/x-python",
   "name": "python",
   "nbconvert_exporter": "python",
   "pygments_lexer": "ipython3",
   "version": "3.8.5"
  }
 },
 "nbformat": 4,
 "nbformat_minor": 5
}
